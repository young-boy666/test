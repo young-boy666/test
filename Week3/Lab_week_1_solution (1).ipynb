{
 "cells": [
  {
   "cell_type": "markdown",
   "metadata": {},
   "source": [
    "## Lab week 1"
   ]
  },
  {
   "cell_type": "markdown",
   "metadata": {},
   "source": [
    "This lab is designed to get some hands on experience with Numpy and Matplotlib.\n",
    "\n",
    "Start by importing the libraries:"
   ]
  },
  {
   "cell_type": "code",
   "execution_count": 1,
   "metadata": {},
   "outputs": [],
   "source": [
    "import numpy as np\n",
    "import matplotlib.pyplot as plt"
   ]
  },
  {
   "cell_type": "markdown",
   "metadata": {},
   "source": [
    "### Exercise 1: Numpy basics\n",
    "\n",
    "* Create a 1D array of the integers from 0 to 14\n",
    "* Create a 1D array of the integers from 11 to 25\n",
    "* Reshape the first array to a 3x5 matrix\n",
    "* Create a 3x3 matrix with the integers from 1 to 9\n",
    "\n",
    "\n",
    "* Set the seed using np.random.seed(1)\n",
    "* Use the function np.random.randint to create a 1D array of 5 random integers between 1 and 10\n",
    "* Use the function np.linspace to create a 1D array of 10 linearly spaced numbers between 0 and 1\n",
    "* Use the function np.random.rand() to create a 2x4 matrix of random numbers between 0 and 1\n",
    "* Use np.around() to round the numbers in the matrix to 2 decimal places\n"
   ]
  },
  {
   "cell_type": "code",
   "execution_count": null,
   "metadata": {},
   "outputs": [],
   "source": [
    "# Exercise 1 solution\n",
    "array_1 = np.arange(15)\n",
    "array_2 = array_1 + 11 # or array_2 = np.arange(11, 26)\n",
    "A_1 = array_1.reshape(3, 5)\n",
    "A_2 = np.arange(1, 10).reshape(3, 3)\n",
    "\n",
    "np.random.seed(1)\n",
    "array_3 = np.random.randint(1, 11, size=5)\n",
    "array_4 = np.linspace(0, 1, 10)\n",
    "A_3 = np.random.rand(2,4)\n",
    "A_3 = np.around(A_3, decimals=2)\n",
    "\n",
    "print(array_1)\n",
    "print(array_2)\n",
    "print(A_1)\n",
    "print(A_2)\n",
    "print(array_3)\n",
    "print(array_4)\n",
    "print(A_3)"
   ]
  },
  {
   "cell_type": "markdown",
   "metadata": {},
   "source": [
    "### Exercise 2: Numpy array manipulation\n",
    "\n",
    "* Set the seed using np.random.seed(2)\n",
    "* Create a 4x4 array of random integers between 1 and 100\n",
    "* Replace the numbers in the second row with 0\n",
    "* Replace all numbers greater than 50 with 100\n",
    "* Calculate the sum of each row"
   ]
  },
  {
   "cell_type": "code",
   "execution_count": null,
   "metadata": {},
   "outputs": [],
   "source": [
    "# Exercise 2 solution\n",
    "np.random.seed(2)\n",
    "A = np.random.randint(1, 101, size=(4, 4))\n",
    "print(A)\n",
    "\n",
    "A[1, :] = 0\n",
    "A[A > 50] = 100\n",
    "row_sums = np.sum(A, axis=1)\n",
    "\n",
    "print(A)\n",
    "print(row_sums)\n",
    "\n",
    "#Alternatively:\n",
    "np.random.seed(2)\n",
    "A = np.random.randint(1, 101, size=(4, 4))\n",
    "print(A)\n",
    "A[1, :] = 0\n",
    "A[A > 50] = 100\n",
    "row_sums = np.zeros(4)\n",
    "for i in range(4):\n",
    "    for j in range(4):\n",
    "        row_sums[i] += A[i, j]\n",
    "        \n",
    "print(A)\n",
    "print(row_sums)"
   ]
  },
  {
   "cell_type": "markdown",
   "metadata": {},
   "source": [
    "\n",
    "### Exercise 3: Numpy operations\n",
    "\n",
    "* Create a vector v of length 5 with values 1, 2, 3, 4, 5\n",
    "* Create a vector w of length 5 where all values are 1\n",
    "* Set the seed using np.random.seed(3)\n",
    "* Create 5x5 matrices A and B with random values between 0 and 1, rounded to 3 decimals\n",
    "* Calculate the elementwise product of v and w\n",
    "* Calculate the dot product of v and w\n",
    "* Calculate the outer product of v and w\n",
    "* Calculate the elementwise product of A and B\n",
    "* Calculate the matrix product of A and B\n",
    "\n",
    "* What does A * v compute?"
   ]
  },
  {
   "cell_type": "code",
   "execution_count": null,
   "metadata": {},
   "outputs": [],
   "source": [
    "#Exercise 3 solution\n",
    "#Create vectors and matrices:\n",
    "v = np.array(range(1,5))  # or v = np.array([1,2,3,4])\n",
    "w = np.ones(4)\n",
    "print(\"v = \", v)\n",
    "print(\"w = \", w)\n",
    "\n",
    "np.random.seed(3)\n",
    "A = np.around(np.random.rand(4, 4), decimals=3)\n",
    "B = np.around(np.random.rand(4, 4), decimals=3)\n",
    "print(\"A = \", A)\n",
    "print(\"B = \", B)\n",
    "\n",
    "print(\"\\nElementwise product of v and w is:\\n\", v * w)\n",
    "print(\"\\nDot product of v and w is:\\n\", np.dot(v, w))\n",
    "print(\"\\nOuter product of v and w is:\\n\", np.outer(v, w))\n",
    "print(\"\\nElementwise product of A and B is:\\n\", A * B)\n",
    "print(\"\\nMatrix product of A and B is:\\n\", np.dot(A, B))\n",
    "\n",
    "print(\"\\nA * v is:\\n\", A * v)\n",
    "#Each row is the elementwise product of v with this row of A.\n",
    "print(\"\\nRow 1: \", A[0,:] * v)\n",
    "print(\"Row 2: \", A[1,:] * v)\n",
    "print(\"Row 3: \", A[2,:] * v)\n",
    "print(\"Row 4: \", A[3,:] * v)"
   ]
  },
  {
   "cell_type": "markdown",
   "metadata": {},
   "source": [
    "### Exercise 4: Matplotlib basic plotting\n",
    "\n",
    "* Use plt.plot to create a simple line plot of sin(x) for x values from 0 to 2*pi\n",
    "* Add labels to the x and y axes, and a title to the plot\n",
    "* Change the color of the line to green and make it dashed\n",
    "* Display the plot using plt.show()\n"
   ]
  },
  {
   "cell_type": "code",
   "execution_count": null,
   "metadata": {},
   "outputs": [],
   "source": [
    "# Exercise 4 solution\n",
    "# Create plotting data\n",
    "x = np.linspace(0, 2*np.pi, 100)\n",
    "y = np.sin(x)\n",
    "\n",
    "# Create the figure\n",
    "plt.figure()\n",
    "# Plot the function\n",
    "plt.plot(x, y, color='green', linestyle='--')\n",
    "\n",
    "# Add labels and title\n",
    "plt.xlabel('x')\n",
    "plt.ylabel('sin(x)')\n",
    "plt.title('Sine Function')\n",
    "\n",
    "# Display\n",
    "plt.show()"
   ]
  },
  {
   "cell_type": "markdown",
   "metadata": {},
   "source": [
    "### Exercise 5: Matplotlib bar plot\n",
    "\n",
    "* Use the plt.bar to create a bar plot of the following data:\n",
    "    * Categories: ['A', 'B', 'C', 'D', 'E']\n",
    "    * Values: [3, 7, 2, 5, 8]\n",
    "* Customise the colors of each bar\n",
    "* Add axis labels using font size 14\n",
    "* Add a title using font size 18\n",
    "* Use plt.xticks to rotate x-axis labels by 45 degrees\n",
    "* Display the plot"
   ]
  },
  {
   "cell_type": "code",
   "execution_count": null,
   "metadata": {},
   "outputs": [],
   "source": [
    "# Exercise 5 solution\n",
    "# Create data\n",
    "categories = ['A', 'B', 'C', 'D', 'E']\n",
    "values = [3, 7, 2, 5, 8]\n",
    "# Define bar colours\n",
    "colors = ['orange','red', 'magenta', 'purple', 'blue']\n",
    "\n",
    "# Create the figure\n",
    "plt.figure()\n",
    "# Create the bar plot\n",
    "plt.bar(categories, values, color=colors)\n",
    "\n",
    "# Customise\n",
    "plt.xlabel('Categories', size=14)\n",
    "plt.ylabel('Values', size=14)\n",
    "plt.title('Bar plot', size=18)\n",
    "plt.xticks(rotation=45)\n",
    "\n",
    "# Display\n",
    "plt.show()"
   ]
  },
  {
   "cell_type": "markdown",
   "metadata": {},
   "source": [
    "### Exercise 6: Matplotlib plot with more features\n",
    "\n",
    "* Create x values from 0 to 4*pi\n",
    "* Plot sin(x), cos(x), and tan(x) on the same graph on a figure of size 12 x 6\n",
    "* Add the points (x,sin(x)) with x = 2, 4, 6, 8 in red\n",
    "* Add a legend, grid, title and appropriate labels\n",
    "* Limit the y-axis to [-2, 2] for better visualisation\n",
    "* Display the plot"
   ]
  },
  {
   "cell_type": "code",
   "execution_count": null,
   "metadata": {},
   "outputs": [],
   "source": [
    "#Create plotting data\n",
    "x = np.linspace(0, 4*np.pi, 200)\n",
    "sin_y = np.sin(x)\n",
    "cos_y = np.cos(x)\n",
    "tan_y = np.tan(x)\n",
    "\n",
    "#Create the figure\n",
    "plt.figure(figsize=(12, 6))\n",
    "# Plot functions\n",
    "plt.plot(x, sin_y, label='sin(x)')\n",
    "plt.plot(x, cos_y, label='cos(x)')\n",
    "plt.plot(x, tan_y, label='tan(x)')\n",
    "\n",
    "# Add points\n",
    "points_x = [2, 4, 6, 8]\n",
    "points_y = np.sin(points_x)\n",
    "plt.scatter(points_x, points_y, color='red', s=100, label='Added points')\n",
    "\n",
    "# Customise\n",
    "plt.legend()\n",
    "plt.grid(True)\n",
    "plt.xlabel('x')\n",
    "plt.ylabel('y')\n",
    "plt.title('Trigonometric Functions')\n",
    "\n",
    "# Change y limits\n",
    "plt.ylim(-2, 2)\n",
    "\n",
    "# Display\n",
    "plt.show()\n"
   ]
  }
 ],
 "metadata": {
  "kernelspec": {
   "display_name": "P4P_env",
   "language": "python",
   "name": "python3"
  },
  "language_info": {
   "codemirror_mode": {
    "name": "ipython",
    "version": 3
   },
   "file_extension": ".py",
   "mimetype": "text/x-python",
   "name": "python",
   "nbconvert_exporter": "python",
   "pygments_lexer": "ipython3",
   "version": "3.12.4"
  }
 },
 "nbformat": 4,
 "nbformat_minor": 2
}
